{
 "cells": [
  {
   "cell_type": "code",
   "execution_count": 5,
   "metadata": {},
   "outputs": [
    {
     "name": "stdout",
     "output_type": "stream",
     "text": [
      "1 campus langue\n",
      "2 里昂 法语\n",
      "3 lafayette\n",
      "4 民宿\n",
      "5 打工\n",
      "6 峡湾\n",
      "7 互惠生\n",
      "8 斯堡\n",
      "9 互惠生\n",
      "10 水饺\n",
      "11 巴黎 民宿\n",
      "12 打工 拉面\n",
      "13 16\n",
      "14 饺子\n",
      "15 商校认证\n",
      "16 visiteur转家庭居留\n",
      "17 换红包\n",
      "18 rcpc过期\n",
      "19 巴黎中央理工\n",
      "20 斯特拉斯堡\n",
      "22 火锅\n",
      "23 转家庭居留\n",
      "24 接机\n",
      "25 马赛 中餐\n",
      "26 DIY\n",
      "27 Cles\n",
      "28 Cles\n",
      "29 学法语\n",
      "30 合作意向书\n",
      "31 图尔\n",
      "32 巴黎学法语\n",
      "33 巴黎法语\n",
      "34 租房\n",
      "35 二手车过户\n",
      "36 租房\n",
      "37 银行卡上限\n",
      "38 订机票\n",
      "39 停机\n",
      "40 香烟\n",
      "41 lettre de presentation de projet\n",
      "42 projet professionnel\n",
      "43 职业规划书模板\n",
      "45 职业规划书\n",
      "46 桌椅\n",
      "47 项目计划书\n",
      "48 里昂高商\n",
      "49 代购 国内\n",
      "50 siege auto\n",
      "Scraping from search id 1 to search id 50 finished\n"
     ]
    }
   ],
   "source": [
    "from bs4 import BeautifulSoup\n",
    "import urllib, re, time, multiprocessing\n",
    "\n",
    "def scraping_xineurope(startId, endId):\n",
    "    tempId = startId\n",
    "    key_list = []\n",
    "    while tempId <= endId:\n",
    "        try:\n",
    "            html = urllib.request.urlopen('http://www.xineurope.com/search.php?mod=forum&searchid=' + str(tempId) + '&orderby=lastpost&ascdesc=desc&searchsubmit=yes&kw=').read()\n",
    "            soup = BeautifulSoup(html, \"lxml\")\n",
    "            keys = soup.find_all('span', {'class': 'emfont'})\n",
    "        except:\n",
    "            print('Error happened when scraping search id ' + str(tempId))\n",
    "            break\n",
    "        for j in keys:\n",
    "            keyWord = j.get_text()\n",
    "            if keyWord:\n",
    "                key_list.append(keyWord)\n",
    "                print(str(tempId), keyWord)\n",
    "            else:\n",
    "                print('End of search id')\n",
    "                tempId = endId\n",
    "        tempId += 1\n",
    "    print('Scraping from search id ' + str(startId) + ' to search id ' + str(tempId - 1) + ' finished')\n",
    "    return key_list\n",
    "\n",
    "key_list = scraping_xineurope(1,50)"
   ]
  },
  {
   "cell_type": "code",
   "execution_count": 6,
   "metadata": {},
   "outputs": [
    {
     "name": "stderr",
     "output_type": "stream",
     "text": [
      "Building prefix dict from the default dictionary ...\n",
      "Loading model from cache C:\\Users\\changyi\\AppData\\Local\\Temp\\jieba.cache\n",
      "Loading model cost 0.828 seconds.\n",
      "Prefix dict has been built succesfully.\n"
     ]
    },
    {
     "data": {
      "image/png": "[encoded data removed]",
      "text/plain": [
       "<matplotlib.figure.Figure at 0x97587ceb8>"
      ]
     },
     "metadata": {},
     "output_type": "display_data"
    },
    {
     "data": {
      "text/plain": [
       "<wordcloud.wordcloud.WordCloud at 0x973e8d4e0>"
      ]
     },
     "execution_count": 6,
     "metadata": {},
     "output_type": "execute_result"
    }
   ],
   "source": [
    "#encoding=gbk #中文编码\n",
    "\n",
    "import jieba.analyse\n",
    "from PIL import Image,ImageSequence\n",
    "import numpy as np\n",
    "import matplotlib.pyplot as plt\n",
    "from wordcloud import WordCloud,ImageColorGenerator\n",
    "\n",
    "lyric= ''\n",
    "for i in key_list:\n",
    "    lyric += str(i)\n",
    "    \n",
    "#这里是使用jieba进行分词，会挑选出频率最高的词(默认前20个)\n",
    "result=jieba.analyse.textrank(lyric,topK=50,withWeight=True)\n",
    "keywords = dict()\n",
    "for i in result:\n",
    "    keywords[i[0]]=i[1]\n",
    "#print(keywords)\n",
    "\n",
    "#这里的img是你要使用的图片模板，形状颜色什么的就靠它啦\n",
    "image= Image.open('./obj.png')\n",
    "graph = np.array(image)\n",
    "wc = WordCloud(font_path='./fonts/simhei.ttf',background_color='White',max_words=50,mask=graph)\n",
    "wc.generate_from_frequencies(keywords)\n",
    "image_color = ImageColorGenerator(graph)\n",
    "plt.imshow(wc)\n",
    "plt.imshow(wc.recolor(color_func=image_color))\n",
    "plt.axis(\"off\")\n",
    "plt.show()\n",
    "wc.to_file('res.png')"
   ]
  },
  {
   "cell_type": "code",
   "execution_count": 7,
   "metadata": {
    "collapsed": true
   },
   "outputs": [],
   "source": [
    "thefile = open('xineuropeResult.txt', 'w')\n",
    "for i in key_list: \n",
    "    thefile.write(\"%s\\n\" % str(i))"
   ]
  },
  {
   "cell_type": "code",
   "execution_count": 8,
   "metadata": {
    "collapsed": true
   },
   "outputs": [],
   "source": [
    "# totalId = 100\n",
    "\n",
    "# scrapy1 = multiprocessing.Process(target = scraping_xineurope, args = (1, 25), name = 'scrapy1')\n",
    "# scrapy2 = multiprocessing.Process(target = scraping_xineurope, args = (26, 50), name = 'scrapy2')\n",
    "# scrapy3 = multiprocessing.Process(target = scraping_xineurope, args = (51, 75), name = 'scrapy3')\n",
    "# scrapy4 = multiprocessing.Process(target = scraping_xineurope, args = (76, 100), name = 'scrapy4')\n",
    "\n",
    "# scrapy1.start()\n",
    "# scrapy2.start()\n",
    "# scrapy3.start()\n",
    "# scrapy4.start()\n",
    "\n",
    "# scrapy1.join()\n",
    "# scrapy2.join()\n",
    "# scrapy3.join()\n",
    "# scrapy4.join()"
   ]
  }
 ],
 "metadata": {
  "anaconda-cloud": {},
  "kernelspec": {
   "display_name": "Python [default]",
   "language": "python",
   "name": "python3"
  },
  "language_info": {
   "codemirror_mode": {
    "name": "ipython",
    "version": 3
   },
   "file_extension": ".py",
   "mimetype": "text/x-python",
   "name": "python",
   "nbconvert_exporter": "python",
   "pygments_lexer": "ipython3",
   "version": "3.5.2"
  }
 },
 "nbformat": 4,
 "nbformat_minor": 1
}
